{
 "cells": [
  {
   "cell_type": "code",
   "execution_count": 1,
   "metadata": {},
   "outputs": [
    {
     "name": "stdout",
     "output_type": "stream",
     "text": [
      "ashutosh\n"
     ]
    }
   ],
   "source": [
    "name=\"ashutosh\"\n",
    "print(name)"
   ]
  },
  {
   "cell_type": "code",
   "execution_count": 2,
   "metadata": {},
   "outputs": [
    {
     "data": {
      "text/plain": [
       "str"
      ]
     },
     "execution_count": 2,
     "metadata": {},
     "output_type": "execute_result"
    }
   ],
   "source": [
    "type(name)"
   ]
  },
  {
   "cell_type": "code",
   "execution_count": 3,
   "metadata": {},
   "outputs": [
    {
     "name": "stdout",
     "output_type": "stream",
     "text": [
      "Jack and Jill went up the hill\n",
      "To fetch a pail of water;\n",
      "Jack fell down and broke his crown,\n",
      "and Jill came tumbling after.\n",
      "\n",
      "Up Jack got, and home did trot,\n",
      "As fast as he could caper,\n",
      "To old Dame Dob, who patched his nob\n",
      "With vinegar and brown paper.\n"
     ]
    }
   ],
   "source": [
    "poem='''Jack and Jill went up the hill\n",
    "To fetch a pail of water;\n",
    "Jack fell down and broke his crown,\n",
    "and Jill came tumbling after.\n",
    "\n",
    "Up Jack got, and home did trot,\n",
    "As fast as he could caper,\n",
    "To old Dame Dob, who patched his nob\n",
    "With vinegar and brown paper.'''\n",
    "print(poem)"
   ]
  },
  {
   "cell_type": "code",
   "execution_count": 5,
   "metadata": {},
   "outputs": [
    {
     "name": "stdout",
     "output_type": "stream",
     "text": [
      "my name is ashutosh jagadish banik\n"
     ]
    }
   ],
   "source": [
    "first=\"ashutosh\"\n",
    "last=\"banik\"\n",
    "middle=\"jagadish\"\n",
    "mother=\"aparna\"\n",
    "sentence=f\"my name is {first} {middle} {last}\"\n",
    "print(sentence)"
   ]
  },
  {
   "cell_type": "code",
   "execution_count": 7,
   "metadata": {},
   "outputs": [
    {
     "name": "stdout",
     "output_type": "stream",
     "text": [
      "my name is Ashutosh Jagadish Banik APARNA banik is my mother\n"
     ]
    }
   ],
   "source": [
    "sentence1=f\"my name is {first.title()} {middle.title()} {last.title()} {mother.upper()} {last.lower()} is my mother\"\n",
    "print(sentence1)"
   ]
  },
  {
   "cell_type": "code",
   "execution_count": 8,
   "metadata": {},
   "outputs": [
    {
     "name": "stdout",
     "output_type": "stream",
     "text": [
      "ASHUTOSH BANIK\n"
     ]
    }
   ],
   "source": [
    "fullname=f\"{name.upper()} {last.upper()}\"\n",
    "print(fullname)"
   ]
  }
 ],
 "metadata": {
  "kernelspec": {
   "display_name": "Python 3",
   "language": "python",
   "name": "python3"
  },
  "language_info": {
   "codemirror_mode": {
    "name": "ipython",
    "version": 3
   },
   "file_extension": ".py",
   "mimetype": "text/x-python",
   "name": "python",
   "nbconvert_exporter": "python",
   "pygments_lexer": "ipython3",
   "version": "3.8.5"
  }
 },
 "nbformat": 4,
 "nbformat_minor": 4
}
